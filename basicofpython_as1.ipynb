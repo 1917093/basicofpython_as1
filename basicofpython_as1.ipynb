{
  "nbformat": 4,
  "nbformat_minor": 0,
  "metadata": {
    "colab": {
      "provenance": []
    },
    "kernelspec": {
      "name": "python3",
      "display_name": "Python 3"
    },
    "language_info": {
      "name": "python"
    }
  },
  "cells": [
    {
      "cell_type": "markdown",
      "source": [
        " **1. what is python and why it is popular?**\n",
        "\n",
        "->    Python is a high-level, general-purpose programming language known for its simplicity and readability. It was created by Guido van Rossum and first released in 1991.\n",
        "\n",
        "\n",
        "-> Python is popular because it has a simple, readable syntax, supports a wide range of applications like web development, data science, and AI, and has a vast community with extensive libraries that make programming faster and easier."
      ],
      "metadata": {
        "id": "QPE1VT5T91wu"
      }
    },
    {
      "cell_type": "markdown",
      "source": [
        "**2. What is an interpreter in Python?**\n",
        "\n",
        "-> An interpreter in Python is a program that executes Python code line by line. It reads your Python script, translates it into machine code (the language the computer understands), and runs it one statement at a time, rather than compiling the entire code at once like a compiler."
      ],
      "metadata": {
        "id": "0Qeg54os-_nu"
      }
    },
    {
      "cell_type": "markdown",
      "source": [
        "**3.What are pre-defined keywords in Python ?**\n",
        "\n",
        "-> Pre-defined keywords in Python are reserved words that have special meaning in the language. These words cannot be used as variable names or identifiers because they are part of Python’s syntax and structure.\n",
        "\n",
        "-> For example Control Flow keywords such as\tif, else, elif, for, while, break, continue. Functions such as def, return, lambda, yield are examples of predefined keywords.\n"
      ],
      "metadata": {
        "id": "35wITbkRAxbP"
      }
    },
    {
      "cell_type": "markdown",
      "source": [
        "**4. Can keywords be used as variable names ?**\n",
        "\n",
        "-> No, keywords cannot be used as variable names. Keywords are reserved words in a programming language that have predefined meanings and are used by the interpreter to understand the structure of the code. Using them as variable names would lead to syntax errors because the interpreter would interpret them as commands rather than variable identifiers.\n"
      ],
      "metadata": {
        "id": "IgObz8ZDCeNi"
      }
    },
    {
      "cell_type": "markdown",
      "source": [
        "**5. What is mutability in Python ?**\n",
        "\n",
        "->In Python, mutability refers to whether an object's state or content can be changed after it has been created.\n",
        "\n",
        "-> Mutable objects are those whose values or internal state can be modified in place after they are initialized. When you modify a mutable object, you are changing the existing object rather than creating a new one. Examples of mutable data types in Python include:\n",
        "\n",
        "Lists: Elements can be added, removed, or modified.\n",
        "\n",
        "Dictionaries: Key-value pairs can be added, removed, or updated.\n",
        "\n",
        "Sets: Elements can be added or removed."
      ],
      "metadata": {
        "id": "BM2c2HsaDTdk"
      }
    },
    {
      "cell_type": "markdown",
      "source": [
        "**6. Why are lists mutable, but tuples are immutable ?**\n",
        "\n",
        "-> Lists are mutable because they are designed to store data that can change—elements can be added, removed, or modified using various methods. This makes them suitable for dynamic data handling. Tuples, on the other hand, are immutable, meaning their elements cannot be changed after creation. This immutability provides data safety, makes tuples hashable (usable as dictionary keys), and allows for more efficient memory use. The key difference lies in their intended use: lists for changeable data and tuples for fixed, constant data."
      ],
      "metadata": {
        "id": "NzBOTQuMwDzo"
      }
    },
    {
      "cell_type": "markdown",
      "source": [
        "**7.What is the difference between “==” and “is” operators in Python?**\n",
        "\n",
        "-> The difference between == and is in Python lies in what they compare:\n",
        "\n",
        "\n",
        "\n",
        "-> == compares values\n",
        "Checks if two variables have the same value (contents).\n",
        "\n",
        "It does not matter if they are different objects in memory.\n",
        "\n",
        "Example:\n",
        "a = [1, 2, 3]\n",
        "b = [1, 2, 3]\n",
        "print(a == b)  # True – same values\n",
        "->  is compares identity\n",
        "Checks if two variables point to the exact same object in memory.\n",
        "\n",
        "Returns True only if they refer to the same memory location.\n",
        "\n",
        "Example:\n",
        "a = [1, 2, 3]\n",
        "b = [1, 2, 3]\n",
        "print(a is b)  # False – different objects, same value"
      ],
      "metadata": {
        "id": "7tQqh_CdxvBr"
      }
    },
    {
      "cell_type": "markdown",
      "source": [
        "**8. What are logical operators in Python ?**\n",
        "\n",
        "->In python logical operators are used to combine conditional statements, allowing you to perform operations based on multiple conditions. These Python operators, alongside arithmetic operators, are special symbols used to carry out computations on values and variables.\n",
        "Example\n",
        "\n",
        "and\t->True if both are True\tx > 1 and x < 10\n",
        "\n",
        "or->\tTrue if at least one is True\tx < 1 or x < 10\n",
        "\n",
        "not->\tInverts the result\tnot(x > 5)\n"
      ],
      "metadata": {
        "id": "OVUMZGz1yxw1"
      }
    },
    {
      "cell_type": "markdown",
      "source": [
        "**9. What is type casting in Python ?**\n",
        "\n",
        "-> Type Casting is the method to convert the Python variable datatype into a certain data type in order to perform the required operation by users.\n",
        "There are two types of type casting:\n",
        "\n",
        "1.Implicit Type Conversion:In this, method, Python converts the datatype into another datatype automatically. Users don't have to involve in this process.\n",
        "\n",
        "2.Explicit Type Conversion:In this method, Python needs user involvement to convert the variable data type into the required data type.\n",
        "\n",
        "eg:\n",
        "\n",
        "a = 5\n",
        "\n",
        "n = float(a)\n",
        "\n",
        "print(type(n))"
      ],
      "metadata": {
        "id": "sAJ6_7UZz_-1"
      }
    },
    {
      "cell_type": "markdown",
      "source": [
        "**10. What is the difference between implicit and explicit type casting ?**\n",
        "\n",
        "->In Python, implicit type casting happens automatically when Python converts one data type to another without the programmer’s involvement. This usually occurs when combining different numeric types, such as integers and floats. For example, if you add an integer (5) to a float (2.5), Python will automatically convert the integer to a float before performing the addition, resulting in a float value (7.5). This kind of casting is safe and does not lead to data loss, as Python handles the conversion internally and ensures accuracy.\n",
        "\n",
        "On the other hand, explicit type casting is when the programmer manually converts a value from one type to another using built-in functions like int(), float(), or str(). This is useful when you receive data in one format (like a string from user input) and need it in another (like an integer for calculations). For instance, converting a string \"10\" to an integer using int(\"10\") allows you to perform arithmetic operations. However, explicit casting can result in data loss—for example, converting a float 3.7 to an integer using int(3.7) will result in 3, losing the decimal part."
      ],
      "metadata": {
        "id": "9dK1_WoO3hd9"
      }
    },
    {
      "cell_type": "markdown",
      "source": [
        "**11. What is the purpose of conditional statements in Python ?**\n",
        "\n",
        "-> Conditional statements in Python serve the purpose of controlling the flow of program execution based on whether specific conditions are met. They enable programs to make decisions and behave differently in various scenarios, leading to dynamic and responsive applications.\n",
        "\n",
        "->Conditional statements, primarily if, elif (else if), and else, allow the program to evaluate a condition and execute a particular block of code only if that condition is True. If the condition is False, an alternative block of code (or no code at all) might be executed.\n"
      ],
      "metadata": {
        "id": "lvVctqGT2-1j"
      }
    },
    {
      "cell_type": "markdown",
      "source": [
        "**12. How does the elif statement work ?**\n",
        "\n",
        "->The elif statement in Python works as a way to check multiple conditions, one after the other. It's part of an if...elif...else chain.\n",
        "\n",
        "Python checks the if condition first.\n",
        "\n",
        "If the if condition is True, that block runs, and the rest (elif/else) are skipped.\n",
        "\n",
        "If the if condition is False, Python moves to the first elif and checks its condition.\n",
        "\n",
        "If an elif is True, that block runs, and the rest are skipped.\n",
        "\n",
        "If all if and elif conditions are False, then the else block (if present) will run."
      ],
      "metadata": {
        "id": "UZGv1paBRrBN"
      }
    },
    {
      "cell_type": "markdown",
      "source": [
        "**13. What is the difference between for and while loops ?**\n",
        "\n",
        "->In Python, for and while loops are both used to repeat a block of code, but they work differently based on the situation.\n",
        "\n",
        "-> A for loop is typically used when you know exactly how many times you want to run the loop. It iterates over a sequence like a list, string, or a range of numbers. For example, for i in range(5) will execute the block five times, from 0 to 4. It automatically handles the loop variable, making it simpler and cleaner for fixed repetitions.\n",
        "\n",
        "-> On the other hand, a while loop is used when the number of repetitions is not known in advance and depends on a condition being true. The loop continues as long as the condition remains true, so you must manually update the variable that affects the condition; otherwise, it can lead to an infinite loop. For instance, a while loop can keep asking for user input until they enter a valid response. While for loops are ideal for iterating over elements, while loops are better suited for scenarios where the stopping point is uncertain."
      ],
      "metadata": {
        "id": "TGLxCIVtSvZJ"
      }
    },
    {
      "cell_type": "markdown",
      "source": [
        "**14. Describe a scenario where a while loop is more suitable than a for loop.**\n",
        "\n",
        "A while loop is more suitable in situations where you don’t know in advance how many times the loop should run, and the repetition depends on a condition that may change during execution.\n",
        "\n",
        "Example Scenario:\n",
        "Suppose you're building a login system that keeps asking a user for their password until they enter the correct one:\n"
      ],
      "metadata": {
        "id": "Irh3Y0xjTXqF"
      }
    },
    {
      "cell_type": "code",
      "source": [
        "correct_password = \"hello123\"\n",
        "\n",
        "user_input = \"\"\n",
        "\n",
        "while user_input != correct_password: user_input = input(\"Enter password: \")\n",
        "\n",
        "print(\"Access granted!\")"
      ],
      "metadata": {
        "colab": {
          "base_uri": "https://localhost:8080/"
        },
        "id": "IxIWPb_DT_Ri",
        "outputId": "34912dfd-0587-4a15-c937-28536fb0a02a"
      },
      "execution_count": null,
      "outputs": [
        {
          "output_type": "stream",
          "name": "stdout",
          "text": [
            "Enter password: hello123\n",
            "Access granted!\n"
          ]
        }
      ]
    },
    {
      "cell_type": "markdown",
      "source": [
        "#***Practical*** ***Questions***"
      ],
      "metadata": {
        "id": "QRR8QiyzUjrF"
      }
    },
    {
      "cell_type": "code",
      "source": [
        "' 1.Write a Python program to print \"Hello, World!'\n",
        "# Python Program to print Hello, World!\n",
        "print(\"Hello, World!\")"
      ],
      "metadata": {
        "colab": {
          "base_uri": "https://localhost:8080/"
        },
        "id": "t1UItWgKU6zF",
        "outputId": "7ae98822-4f09-4992-b344-c6ccdfa860d3"
      },
      "execution_count": null,
      "outputs": [
        {
          "output_type": "stream",
          "name": "stdout",
          "text": [
            "Hello, World!\n"
          ]
        }
      ]
    },
    {
      "cell_type": "code",
      "source": [
        "'2.Write a Python program that displays your name and age'\n",
        "\n",
        "# Python Program to display name and age\n",
        "\n",
        "name = \"Aditi Sharma\"\n",
        "age = 25\n",
        "\n",
        "print(\"My name is\", name)\n",
        "print(\"I am\", age, \"years old\")"
      ],
      "metadata": {
        "colab": {
          "base_uri": "https://localhost:8080/"
        },
        "id": "8SHtQprPVFPE",
        "outputId": "446689e9-f03b-40d7-cac2-1a676976488f"
      },
      "execution_count": null,
      "outputs": [
        {
          "output_type": "stream",
          "name": "stdout",
          "text": [
            "My name is Aditi Sharma\n",
            "I am 25 years old\n"
          ]
        }
      ]
    },
    {
      "cell_type": "code",
      "source": [
        "'3.Write code to print all the pre-defined keywords in Python using the keyword library.'\n",
        "\n",
        "import keyword\n",
        "\n",
        "# Get all Python keywords\n",
        "keywords_list = keyword.kwlist\n",
        "\n",
        "print(\"Pre-defined keywords in Python are:\")\n",
        "for word in keywords_list:\n",
        "    print(word)\n",
        "\n"
      ],
      "metadata": {
        "colab": {
          "base_uri": "https://localhost:8080/"
        },
        "id": "lqH8n7yRVpnj",
        "outputId": "fae7f133-068d-40d2-d9a4-51b79198f53f"
      },
      "execution_count": null,
      "outputs": [
        {
          "output_type": "stream",
          "name": "stdout",
          "text": [
            "Pre-defined keywords in Python are:\n",
            "False\n",
            "None\n",
            "True\n",
            "and\n",
            "as\n",
            "assert\n",
            "async\n",
            "await\n",
            "break\n",
            "class\n",
            "continue\n",
            "def\n",
            "del\n",
            "elif\n",
            "else\n",
            "except\n",
            "finally\n",
            "for\n",
            "from\n",
            "global\n",
            "if\n",
            "import\n",
            "in\n",
            "is\n",
            "lambda\n",
            "nonlocal\n",
            "not\n",
            "or\n",
            "pass\n",
            "raise\n",
            "return\n",
            "try\n",
            "while\n",
            "with\n",
            "yield\n"
          ]
        }
      ]
    },
    {
      "cell_type": "code",
      "source": [
        "\n",
        "'4.Write a program that checks if a given word is a Python keyword.'\n",
        "\n",
        "import keyword\n",
        "\n",
        "# Take input from the user\n",
        "word = input(\"Type a word: \")\n",
        "\n",
        "# Check if the word is a Python keyword\n",
        "if keyword.iskeyword(word):\n",
        "    print(word, \"is a Python keyword.\")\n",
        "\n",
        "else:\n",
        "    print(word, \"is not a Python keyword.\")\n"
      ],
      "metadata": {
        "colab": {
          "base_uri": "https://localhost:8080/"
        },
        "id": "OJSAv3eHWSbo",
        "outputId": "cfd02f81-24f6-48a7-a34e-159a2dd65161"
      },
      "execution_count": null,
      "outputs": [
        {
          "output_type": "stream",
          "name": "stdout",
          "text": [
            "Type a word: if\n",
            "if is a Python keyword.\n"
          ]
        }
      ]
    },
    {
      "cell_type": "code",
      "source": [
        "'5.Create a list and tuple in Python, and demonstrate how attempting to change an element works differently for each.'\n",
        "\n",
        "# Create a list and a tuple\n",
        "my_list = [10, 20, 30]\n",
        "my_tuple = (10, 20, 30)\n",
        "\n",
        "# Modify an element in the list\n",
        "new_value = input(\"Enter a number: \")\n",
        "my_list[1] = int(new_value)  # Convert input to integer\n",
        "print(\"Modified list:\", my_list)\n",
        "\n",
        "# Try to modify an element in the tuple (this will cause an error)\n",
        "try:\n",
        "    new_value = input(\"Enter a number for tuple: \")\n",
        "    my_tuple[1] = int(new_value)\n",
        "except TypeError as e:\n",
        "    print(\"Error when modifying tuple:\", e)\n"
      ],
      "metadata": {
        "colab": {
          "base_uri": "https://localhost:8080/"
        },
        "id": "mLkclFkaXBOR",
        "outputId": "4f63407f-7693-467c-cd9f-5a450d96a5ae"
      },
      "execution_count": null,
      "outputs": [
        {
          "output_type": "stream",
          "name": "stdout",
          "text": [
            "Enter a number: 4\n",
            "Modified list: [10, 4, 30]\n",
            "Enter a number for tuple: 5\n",
            "Error when modifying tuple: 'tuple' object does not support item assignment\n"
          ]
        }
      ]
    },
    {
      "cell_type": "code",
      "source": [
        "' 6.Write a function to demonstrate the behavior of mutable and immutable arguments.'\n",
        "# Function to demonstrate behavior of mutable and immutable arguments\n",
        "def demo_behavior(num, num_list):\n",
        "    # 'num' is an integer (immutable)\n",
        "    # When we do num += 10, a new integer object is created inside the function.\n",
        "    # It does NOT affect the original variable passed from outside.\n",
        "    num += 10\n",
        "\n",
        "    # 'num_list' is a list (mutable)\n",
        "    # When we do num_list.append(100), it modifies the original list object.\n",
        "    # Because lists are mutable, changes inside the function reflect outside too.\n",
        "    num_list.append(100)\n",
        "\n",
        "    # Print the values inside the function\n",
        "    print(\"Inside function:\")\n",
        "    print(\"num (immutable):\", num)\n",
        "    print(\"num_list (mutable):\", num_list)\n",
        "\n",
        "# Outside the function\n",
        "x = 5              # Integer is immutable\n",
        "y = [1, 2, 3]      # List is mutable\n",
        "\n",
        "# Call the function with immutable and mutable arguments\n",
        "demo_behavior(x, y)\n",
        "\n",
        "# Print the values after function call\n",
        "print(\"\\nOutside function:\")\n",
        "print(\"x (immutable):\", x)         # Remains unchanged\n",
        "print(\"y (mutable):\", y)           # Gets updated with 100\n"
      ],
      "metadata": {
        "colab": {
          "base_uri": "https://localhost:8080/"
        },
        "id": "QqR3c-vpZ5Xz",
        "outputId": "46e129da-54df-4d0d-fb2a-f8e9f93c12a0"
      },
      "execution_count": null,
      "outputs": [
        {
          "output_type": "stream",
          "name": "stdout",
          "text": [
            "Inside function:\n",
            "num (immutable): 15\n",
            "num_list (mutable): [1, 2, 3, 100]\n",
            "\n",
            "Outside function:\n",
            "x (immutable): 5\n",
            "y (mutable): [1, 2, 3, 100]\n"
          ]
        }
      ]
    },
    {
      "cell_type": "code",
      "source": [
        "'7.Write a program that performs basic arithmetic operations on two user-input numbers.'\n",
        "# Take two numbers as input from the user\n",
        "num1 = int(input(\"Enter first number: \"))\n",
        "num2 = int(input(\"Enter second number: \"))\n",
        "\n",
        "# Perform basic arithmetic operations\n",
        "print(\"Addition:\", num1 + num2)\n",
        "print(\"Subtraction:\", num1 - num2)\n",
        "print(\"Multiplication:\", num1 * num2)\n",
        "\n",
        "# Check for division by zero\n",
        "if num2 != 0:\n",
        "    print(\"Division:\", num1 / num2)\n",
        "else:\n",
        "    print(\"Division: Cannot divide by zero\")\n"
      ],
      "metadata": {
        "colab": {
          "base_uri": "https://localhost:8080/"
        },
        "id": "66rG9hOmfOde",
        "outputId": "a3f93a77-7b60-4bef-9ea0-23025e3ec1f9"
      },
      "execution_count": null,
      "outputs": [
        {
          "output_type": "stream",
          "name": "stdout",
          "text": [
            "Enter first number: 10\n",
            "Enter second number: 5\n",
            "Addition: 15\n",
            "Subtraction: 5\n",
            "Multiplication: 50\n",
            "Division: 2.0\n"
          ]
        }
      ]
    },
    {
      "cell_type": "code",
      "source": [
        "'8.Write a program to demonstrate the use of logical operators.'\n",
        "\n",
        "\n",
        "# Take the user's age as input and convert it to an integer\n",
        "age = int(input(\"Enter your age: \"))\n",
        "\n",
        "# Ask the user if they have a valid ID (yes or no)\n",
        "has_id = input(\"Do you have a valid ID? (yes/no): \")\n",
        "\n",
        "# Convert the string input to a boolean value\n",
        "# If the user types \"yes\" (case-insensitive), has_id becomes True; otherwise, False\n",
        "has_id = has_id.lower() == \"yes\"\n",
        "\n",
        "# Using logical operators to check multiple conditions\n",
        "\n",
        "# 'and' operator: Both conditions must be True\n",
        "# If age is 18 or more AND user has a valid ID, allow entry\n",
        "if age >= 18 and has_id:\n",
        "    print(\"You are allowed to enter.\")\n",
        "\n",
        "# 'or' operator: At least one condition must be True\n",
        "# If either age is 18+ OR the user has an ID, allow conditional entry\n",
        "elif age >= 18 or has_id:\n",
        "    print(\"You might be allowed with extra verification.\")\n",
        "\n",
        "# If both conditions fail (under 18 AND no ID), deny entry\n",
        "else:\n",
        "    print(\"You are not allowed to enter.\")\n",
        "\n",
        "# 'not' operator: Reverses the condition\n",
        "# If user does NOT have a valid ID, show a message to bring one next time\n",
        "if not has_id:\n",
        "    print(\"Please bring a valid ID next time.\")\n"
      ],
      "metadata": {
        "colab": {
          "base_uri": "https://localhost:8080/"
        },
        "id": "DbAQ_1JogOLR",
        "outputId": "1dd7bc96-c663-4d2b-80b0-33db3577ffac"
      },
      "execution_count": null,
      "outputs": [
        {
          "output_type": "stream",
          "name": "stdout",
          "text": [
            "Enter your age: 25\n",
            "Do you have a valid ID? (yes/no): YES\n",
            "You are allowed to enter.\n"
          ]
        }
      ]
    },
    {
      "cell_type": "code",
      "source": [
        "'9.Write a Python program to convert user input from string to integer, float, and boolean types.'\n",
        "\n",
        "\n",
        "# Take input from user as a string\n",
        "user_input = input(\"Enter a value: \")\n",
        "\n",
        "# Convert to integer\n",
        "try:\n",
        "    int_value = int(user_input)\n",
        "    print(\"As Integer:\", int_value)\n",
        "except ValueError:\n",
        "    print(\"Cannot convert to Integer\")\n",
        "\n",
        "# Convert to float\n",
        "try:\n",
        "    float_value = float(user_input)\n",
        "    print(\"As Float:\", float_value)\n",
        "except ValueError:\n",
        "    print(\"Cannot convert to Float\")\n",
        "\n",
        "# Convert to boolean\n",
        "bool_value = user_input.lower() in [\"true\", \"1\", \"yes\"]\n",
        "print(\"As Boolean:\", bool_value)\n",
        "\n",
        "\n"
      ],
      "metadata": {
        "id": "jpznGok0i-tS",
        "colab": {
          "base_uri": "https://localhost:8080/"
        },
        "outputId": "5067859c-d286-40d9-8a97-00ee07666a7c"
      },
      "execution_count": null,
      "outputs": [
        {
          "output_type": "stream",
          "name": "stdout",
          "text": [
            "Enter a value: yes\n",
            "Cannot convert to Integer\n",
            "Cannot convert to Float\n",
            "As Boolean: True\n"
          ]
        }
      ]
    },
    {
      "cell_type": "code",
      "source": [
        "'10.Write code to demonstrate type casting with list elements.'\n",
        "\n",
        "\n",
        "# Original list with string numbers\n",
        "str_list = [\"10\", \"20\", \"30\"]\n",
        "\n",
        "# Convert to integers\n",
        "int_list = []\n",
        "for i in str_list:\n",
        "    int_list.append(int(i))\n",
        "print(\"Integers:\", int_list)\n",
        "\n",
        "# Convert to floats\n",
        "float_list = []\n",
        "for i in str_list:\n",
        "    float_list.append(float(i))\n",
        "print(\"Floats:\", float_list)\n",
        "\n",
        "# Convert to booleans\n",
        "bool_list = []\n",
        "for i in str_list:\n",
        "    bool_list.append(bool(i))  # Non-empty strings are always True\n",
        "print(\"Booleans:\", bool_list)\n"
      ],
      "metadata": {
        "colab": {
          "base_uri": "https://localhost:8080/"
        },
        "id": "qKVrAqlQpYz7",
        "outputId": "965fdace-a8f0-45d4-8f80-c52302dafe6c"
      },
      "execution_count": null,
      "outputs": [
        {
          "output_type": "stream",
          "name": "stdout",
          "text": [
            "Integers: [10, 20, 30]\n",
            "Floats: [10.0, 20.0, 30.0]\n",
            "Booleans: [True, True, True]\n"
          ]
        }
      ]
    },
    {
      "cell_type": "code",
      "source": [
        "'11.Write a program that checks if a number is positive, negative, or zero.'\n",
        "# Take input from the user\n",
        "num = float(input(\"Enter a number: \"))\n",
        "\n",
        "# Check if number is positive, negative, or zero\n",
        "if num > 0:\n",
        "    print(\"The number is positive.\")\n",
        "elif num < 0:\n",
        "    print(\"The number is negative.\")\n",
        "else:\n",
        "    print(\"The number is zero.\")\n"
      ],
      "metadata": {
        "colab": {
          "base_uri": "https://localhost:8080/"
        },
        "id": "cAq4gemkry5T",
        "outputId": "228626df-c2de-4f8a-c075-1f68c3424432"
      },
      "execution_count": null,
      "outputs": [
        {
          "output_type": "stream",
          "name": "stdout",
          "text": [
            "Enter a number: 10\n",
            "The number is positive.\n"
          ]
        }
      ]
    },
    {
      "cell_type": "code",
      "source": [
        "'12.Write a for loop to print numbers from 1 to 10.'\n",
        "\n",
        "for i in range(1, 11):\n",
        "    print(i)\n"
      ],
      "metadata": {
        "id": "Y7Sq9dTzpBtI",
        "colab": {
          "base_uri": "https://localhost:8080/"
        },
        "outputId": "e2335447-4f10-4242-8e82-0df0994b6fae"
      },
      "execution_count": 28,
      "outputs": [
        {
          "output_type": "stream",
          "name": "stdout",
          "text": [
            "1\n",
            "2\n",
            "3\n",
            "4\n",
            "5\n",
            "6\n",
            "7\n",
            "8\n",
            "9\n",
            "10\n"
          ]
        }
      ]
    },
    {
      "cell_type": "code",
      "source": [
        "'13.Write a Python program to find the sum of all even numbers between 1 and 50.'\n",
        "total = 0\n",
        "for i in range(2, 51, 2):  # Start from 2, step by 2 to get only even numbers\n",
        "    total += i\n",
        "\n",
        "print(\"Sum of even numbers from 1 to 50 is:\", total)\n"
      ],
      "metadata": {
        "colab": {
          "base_uri": "https://localhost:8080/"
        },
        "id": "lZBU86-ita-i",
        "outputId": "ad708a11-f9cc-45c4-c1d9-3e3f0a8c730b"
      },
      "execution_count": 29,
      "outputs": [
        {
          "output_type": "stream",
          "name": "stdout",
          "text": [
            "Sum of even numbers from 1 to 50 is: 650\n"
          ]
        }
      ]
    },
    {
      "cell_type": "code",
      "source": [
        "'14.Write a program to reverse a string using a while loop.'\n",
        "# Take input from the user\n",
        "s = input(\"Enter a string: \")\n",
        "\n",
        "# Initialize variables\n",
        "i = len(s) - 1\n",
        "rev = \"\"\n",
        "\n",
        "# Use while loop to reverse the string\n",
        "while i >= 0:\n",
        "    rev += s[i]\n",
        "    i -= 1\n",
        "\n",
        "# Print the reversed string\n",
        "print(\"Reversed string:\", rev)\n",
        "\n"
      ],
      "metadata": {
        "colab": {
          "base_uri": "https://localhost:8080/"
        },
        "id": "55aSkcr6t1x9",
        "outputId": "88fa00e5-df6b-4018-fb08-c9473aeda7d5"
      },
      "execution_count": 31,
      "outputs": [
        {
          "output_type": "stream",
          "name": "stdout",
          "text": [
            "Enter a string: worng\n",
            "Reversed string: gnrow\n"
          ]
        }
      ]
    },
    {
      "cell_type": "code",
      "source": [
        "'15.Write a Python program to calculate the factorial of a number provided by the user using a while loop.'\n",
        "# Take input from the user\n",
        "num = int(input(\"Enter a number: \"))\n",
        "\n",
        "# Initialize factorial and counter\n",
        "factorial = 1\n",
        "i = 1\n",
        "\n",
        "# Calculate factorial using while loop\n",
        "while i <= num:\n",
        "    factorial *= i\n",
        "    i += 1\n",
        "\n",
        "print(\"Factorial of\", num, \"is:\", factorial)\n"
      ],
      "metadata": {
        "colab": {
          "base_uri": "https://localhost:8080/"
        },
        "id": "yWMpYnLev2Fq",
        "outputId": "df1d77d3-126d-4c76-e33f-1c574a5dda95"
      },
      "execution_count": 30,
      "outputs": [
        {
          "output_type": "stream",
          "name": "stdout",
          "text": [
            "Enter a number: 3\n",
            "Factorial of 3 is: 6\n"
          ]
        }
      ]
    }
  ]
}